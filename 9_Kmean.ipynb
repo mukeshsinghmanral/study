{
  "nbformat": 4,
  "nbformat_minor": 0,
  "metadata": {
    "colab": {
      "provenance": []
    },
    "kernelspec": {
      "name": "python3",
      "display_name": "Python 3"
    },
    "language_info": {
      "name": "python"
    }
  },
  "cells": [
    {
      "cell_type": "code",
      "execution_count": null,
      "metadata": {
        "colab": {
          "base_uri": "https://localhost:8080/"
        },
        "id": "sdx0ZowBe7pi",
        "outputId": "196283cb-dc0d-4f9f-fad7-24612f16fde9"
      },
      "outputs": [
        {
          "name": "stdout",
          "output_type": "stream",
          "text": [
            "Reg. Number:23MCA1095\n",
            "Name:Mukesh Singh Manral\n",
            "Week:Week 9\\\n"
          ]
        }
      ],
      "source": [
        "Num, Name, Week = input(\"Reg. Number:\"), input(\"Name:\"), input(\"Week:\")"
      ]
    },
    {
      "cell_type": "code",
      "source": [],
      "metadata": {
        "id": "-H4cjMk_F7pG"
      },
      "execution_count": null,
      "outputs": []
    },
    {
      "cell_type": "code",
      "source": [
        "\n",
        "import pandas as pd\n",
        "import numpy as np\n",
        "from sklearn.datasets import make_blobs\n",
        "from sklearn.metrics import pairwise_distances_argmin\n",
        "import matplotlib.pyplot as plt\n",
        "\n",
        "\n",
        "x = [2, 2, 8, 5, 7, 6, 1, 4]\n",
        "y = [10, 5, 4, 8, 5, 4, 2, 9]\n",
        "\n",
        "\n",
        "data = {'x': x, 'y': y}\n",
        "\n",
        "\n",
        "df = pd.DataFrame(data)\n",
        "\n",
        "\n",
        "print(df)\n"
      ],
      "metadata": {
        "colab": {
          "base_uri": "https://localhost:8080/"
        },
        "id": "AUxTf17Le9Q2",
        "outputId": "b2503d71-6b3b-4834-edb9-c798a130eed9"
      },
      "execution_count": null,
      "outputs": [
        {
          "output_type": "stream",
          "name": "stdout",
          "text": [
            "   x   y\n",
            "0  2  10\n",
            "1  2   5\n",
            "2  8   4\n",
            "3  5   8\n",
            "4  7   5\n",
            "5  6   4\n",
            "6  1   2\n",
            "7  4   9\n"
          ]
        }
      ]
    },
    {
      "cell_type": "code",
      "source": [
        "\n",
        "\n",
        "def find_clusters(X, n_clusters, rseed=2):\n",
        "\n",
        "    rng = np.random.RandomState(rseed)\n",
        "    i = rng.permutation(X.shape[0])[:n_clusters]\n",
        "    centers = X[i]\n",
        "\n",
        "    while True:\n",
        "\n",
        "        labels = pairwise_distances_argmin(X, centers)\n",
        "\n",
        "\n",
        "        new_centers = np.array([X[labels == i].mean(0) for i in range(n_clusters)])\n",
        "\n",
        "\n",
        "        if np.all(centers == new_centers):\n",
        "            break\n",
        "        centers = new_centers\n",
        "\n",
        "    return centers, labels\n",
        "\n"
      ],
      "metadata": {
        "id": "Bzz-73GDe9Nd"
      },
      "execution_count": null,
      "outputs": []
    },
    {
      "cell_type": "code",
      "source": [
        "import numpy as np\n",
        "\n",
        "\n",
        "x = [2, 2, 8, 5, 7, 6, 1, 4]\n",
        "y = [10, 5, 4, 8, 5, 4, 2, 9]\n",
        "data = np.array(list(zip(x, y)))\n",
        "\n",
        "def k_means(X, K):\n",
        "\n",
        "    centroids = X[np.random.choice(range(X.shape[0]), size=K, replace=False)]\n",
        "\n",
        "    for _ in range(1):\n",
        "\n",
        "        distances = np.sqrt(((X - centroids[:, np.newaxis])**2).sum(axis=2))\n",
        "\n",
        "\n",
        "        labels = distances.argmin(axis=0)\n",
        "\n",
        "\n",
        "        for k in range(K):\n",
        "            centroids[k] = X[labels==k].mean(axis=0)\n",
        "\n",
        "    return labels, centroids\n",
        "\n",
        "\n",
        "labels, centroids = k_means(data, 2)\n",
        "print(\"Centroids for K=2: \", centroids)\n",
        "\n",
        "\n",
        "labels, centroids = k_means(data, 3)\n",
        "print(\"Centroids for K=3: \", centroids)\n"
      ],
      "metadata": {
        "colab": {
          "base_uri": "https://localhost:8080/"
        },
        "id": "f6OzL0pfe9FF",
        "outputId": "ac9a80d0-60b8-47ff-c0aa-6f8b5ebb9bab"
      },
      "execution_count": null,
      "outputs": [
        {
          "output_type": "stream",
          "name": "stdout",
          "text": [
            "Centroids for K=2:  [[7 4]\n",
            " [2 6]]\n",
            "Centroids for K=3:  [[3 9]\n",
            " [7 4]\n",
            " [1 3]]\n"
          ]
        }
      ]
    },
    {
      "cell_type": "code",
      "source": [
        "import numpy as np\n",
        "import matplotlib.pyplot as plt\n",
        "\n",
        "\n",
        "x = [2, 2, 8, 5, 7, 6, 1, 4]\n",
        "y = [10, 5, 4, 8, 5, 4, 2, 9]\n",
        "data = np.array(list(zip(x, y)))\n",
        "\n",
        "def k_means(X, K):\n",
        "\n",
        "    centroids = X[np.random.choice(range(X.shape[0]), size=K, replace=False)]\n",
        "\n",
        "    for _ in range(1):\n",
        "\n",
        "        distances = np.sqrt(((X - centroids[:, np.newaxis])**2).sum(axis=2))\n",
        "\n",
        "\n",
        "        labels = distances.argmin(axis=0)\n",
        "\n",
        "\n",
        "        for k in range(K):\n",
        "            centroids[k] = X[labels==k].mean(axis=0)\n",
        "\n",
        "    return labels, centroids\n",
        "\n",
        "distortions = []\n",
        "K = range(1, len(data)+1)\n",
        "for k in K:\n",
        "    _, centroids = k_means(data, k)\n",
        "    distortions.append(sum(np.min(np.sqrt(((data - centroids[:, np.newaxis])**2).sum(axis=2)), axis=1)) / data.shape[0])\n",
        "\n",
        "\n",
        "plt.plot(K, distortions, 'bx-')\n",
        "plt.xlabel('k')\n",
        "plt.ylabel('Distortion')\n",
        "plt.title('The Elbow Method showing the optimal k')\n",
        "plt.show()\n",
        "\n",
        "\n",
        "elbow_point = np.where(np.gradient(np.gradient(distortions)) == max(np.gradient(np.gradient(distortions))))[0][0]\n",
        "optimal_k = elbow_point + 1\n",
        "\n",
        "\n",
        "labels, centroids = k_means(data, optimal_k)\n",
        "print(\"Centroids for K={}: \".format(optimal_k), centroids)\n"
      ],
      "metadata": {
        "colab": {
          "base_uri": "https://localhost:8080/",
          "height": 489
        },
        "id": "WisBphDYe9Cm",
        "outputId": "36b6165d-da5f-4c92-c985-04d7bfcf0da2"
      },
      "execution_count": null,
      "outputs": [
        {
          "output_type": "display_data",
          "data": {
            "text/plain": [
              "<Figure size 640x480 with 1 Axes>"
            ],
            "image/png": "[encoded data removed]"
          },
          "metadata": {}
        },
        {
          "output_type": "stream",
          "name": "stdout",
          "text": [
            "Centroids for K=1:  [[4 5]]\n"
          ]
        }
      ]
    },
    {
      "cell_type": "code",
      "source": [
        "\n",
        "unique_labels = np.unique(labels)\n",
        "\n",
        "if len(unique_labels) > 1:\n",
        "\n",
        "    sil_score = silhouette_score(data, labels)\n",
        "    print(\"Silhouette Score: \", sil_score)\n",
        "else:\n",
        "    print(\"Not enough clusters to calculate silhouette score.\")\n"
      ],
      "metadata": {
        "colab": {
          "base_uri": "https://localhost:8080/"
        },
        "id": "JaA-xSb0e8_O",
        "outputId": "283d1ac1-093b-4359-87dd-e37d9d5498c2"
      },
      "execution_count": null,
      "outputs": [
        {
          "output_type": "stream",
          "name": "stdout",
          "text": [
            "Not enough clusters to calculate silhouette score.\n"
          ]
        }
      ]
    },
    {
      "cell_type": "code",
      "source": [
        "import numpy as np\n",
        "\n",
        "\n",
        "x = [2, 2, 8, 5, 7, 6, 1, 4]\n",
        "y = [10, 5, 4, 8, 5, 4, 2, 9]\n",
        "data = np.array(list(zip(x, y)))\n",
        "\n",
        "def k_means_pp(X, K):\n",
        "\n",
        "    centroids = [X[np.random.choice(range(X.shape[0]))]]\n",
        "\n",
        "    for _ in range(1, K):\n",
        "        dist_sq = np.array([min([np.inner(c-x,c-x) for c in centroids]) for x in X])\n",
        "        probs = dist_sq/dist_sq.sum()\n",
        "        cumulative_probs = probs.cumsum()\n",
        "        r = np.random.rand()\n",
        "\n",
        "        for j, p in enumerate(cumulative_probs):\n",
        "            if r < p:\n",
        "                i = j\n",
        "                break\n",
        "\n",
        "        centroids.append(X[i])\n",
        "\n",
        "    return np.array(centroids)\n",
        "\n",
        "\n",
        "print(\"Initial centroids for K=2: \", k_means_pp(data, 2))\n",
        "print(\"Initial centroids for K=3: \", k_means_pp(data, 3))\n"
      ],
      "metadata": {
        "colab": {
          "base_uri": "https://localhost:8080/"
        },
        "id": "NowmDISpe85O",
        "outputId": "9b056f75-1cf2-4e63-a15a-1138d8caf3d3"
      },
      "execution_count": null,
      "outputs": [
        {
          "output_type": "stream",
          "name": "stdout",
          "text": [
            "Initial centroids for K=2:  [[4 9]\n",
            " [7 5]]\n",
            "Initial centroids for K=3:  [[7 5]\n",
            " [4 9]\n",
            " [1 2]]\n"
          ]
        }
      ]
    },
    {
      "cell_type": "code",
      "source": [
        "from sklearn.cluster import KMeans\n",
        "\n",
        "\n",
        "kmeans = KMeans(n_clusters=2, init='k-means++').fit(data)\n",
        "print(\"Centroids for K=2: \", kmeans.cluster_centers_)\n",
        "\n",
        "\n",
        "kmeans = KMeans(n_clusters=3, init='k-means++').fit(data)\n",
        "print(\"Centroids for K=3: \", kmeans.cluster_centers_)\n"
      ],
      "metadata": {
        "colab": {
          "base_uri": "https://localhost:8080/"
        },
        "id": "Dp-K80Qwe8w_",
        "outputId": "4d8d66b9-56cd-4c0e-e9d8-71d1eeff44ea"
      },
      "execution_count": null,
      "outputs": [
        {
          "output_type": "stream",
          "name": "stderr",
          "text": [
            "/usr/local/lib/python3.10/dist-packages/sklearn/cluster/_kmeans.py:870: FutureWarning: The default value of `n_init` will change from 10 to 'auto' in 1.4. Set the value of `n_init` explicitly to suppress the warning\n",
            "  warnings.warn(\n"
          ]
        },
        {
          "output_type": "stream",
          "name": "stdout",
          "text": [
            "Centroids for K=2:  [[3.66666667 9.        ]\n",
            " [4.8        4.        ]]\n",
            "Centroids for K=3:  [[3.66666667 9.        ]\n",
            " [7.         4.33333333]\n",
            " [1.5        3.5       ]]\n"
          ]
        },
        {
          "output_type": "stream",
          "name": "stderr",
          "text": [
            "/usr/local/lib/python3.10/dist-packages/sklearn/cluster/_kmeans.py:870: FutureWarning: The default value of `n_init` will change from 10 to 'auto' in 1.4. Set the value of `n_init` explicitly to suppress the warning\n",
            "  warnings.warn(\n"
          ]
        }
      ]
    },
    {
      "cell_type": "code",
      "source": [
        "from google.colab import auth\n",
        "auth.authenticate_user()\n",
        "import requests\n",
        "gcloud_token = !gcloud auth print-access-token\n",
        "gcloud_tokeninfo = requests.get('https://www.googleapis.com/oauth2/v3/tokeninfo?access_token=' + gcloud_token[0]).json()\n",
        "user = gcloud_tokeninfo['email']\n",
        "import datetime\n",
        "dt = datetime.datetime.now()\n",
        "x = str(dt).split('.')[0]\n",
        "print(f\"This Script is executed by: \",user, \"at\", x)"
      ],
      "metadata": {
        "colab": {
          "base_uri": "https://localhost:8080/"
        },
        "id": "2io5NGFWomA_",
        "outputId": "6b11a259-3282-4786-f907-0e0dacc0d56a"
      },
      "execution_count": null,
      "outputs": [
        {
          "output_type": "stream",
          "name": "stdout",
          "text": [
            "This Script is executed by:  mukeshsingh.manral2023@vitstudent.ac.in at 2024-03-28 03:32:40\n"
          ]
        }
      ]
    },
    {
      "cell_type": "code",
      "source": [],
      "metadata": {
        "id": "05NRQHA1rxJ8"
      },
      "execution_count": null,
      "outputs": []
    }
  ]
}