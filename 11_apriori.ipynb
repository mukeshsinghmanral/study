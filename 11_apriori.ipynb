{
  "nbformat": 4,
  "nbformat_minor": 0,
  "metadata": {
    "colab": {
      "provenance": []
    },
    "kernelspec": {
      "name": "python3",
      "display_name": "Python 3"
    },
    "language_info": {
      "name": "python"
    }
  },
  "cells": [
    {
      "cell_type": "markdown",
      "source": [
        "# Data preprocessing"
      ],
      "metadata": {
        "id": "nSpp7OTT9O6Y"
      }
    },
    {
      "cell_type": "code",
      "source": [
        "import pandas as pd\n",
        "\n",
        "# Load the dataset\n",
        "df = pd.read_csv(\"supermarket.csv\", header=None)  # Assuming there are no column names in the CSV\n",
        "\n",
        "# Create an empty list to store arrays of items\n",
        "transactions = []\n",
        "\n",
        "# Iterate over each row in the DataFrame\n",
        "for index, row in df.iterrows():\n",
        "    # Convert the row values into a list\n",
        "    items = list(row)\n",
        "    # Append the list of items to the transactions list\n",
        "    transactions.append(items)\n",
        "\n",
        "# Print the first few transactions as an example\n",
        "for i in range(5):  # Adjust the range to print desired number of transactions\n",
        "    print(transactions[i])\n"
      ],
      "metadata": {
        "colab": {
          "base_uri": "https://localhost:8080/",
          "height": 0
        },
        "id": "BKzz1VLA4tMV",
        "outputId": "75694da0-4c01-4535-c45d-03b839c9565b"
      },
      "execution_count": 16,
      "outputs": [
        {
          "output_type": "stream",
          "name": "stderr",
          "text": [
            "/usr/local/lib/python3.10/dist-packages/ipykernel/ipkernel.py:283: DeprecationWarning: `should_run_async` will not call `transform_cell` automatically in the future. Please pass the result to `transformed_cell` argument and any exception that happen during thetransform in `preprocessing_exc_tuple` in IPython 7.17 and above.\n",
            "  and should_run_async(code)\n"
          ]
        },
        {
          "output_type": "stream",
          "name": "stdout",
          "text": [
            "['shrimp', 'almonds', 'avocado', 'vegetables mix', 'green grapes', 'whole weat flour', 'yams', 'cottage cheese', 'energy drink', 'tomato juice', 'low fat yogurt', 'green tea', 'honey', 'salad', 'mineral water', 'salmon', 'antioxydant juice', 'frozen smoothie', 'spinach', 'olive oil']\n",
            "['burgers', 'meatballs', 'eggs', nan, nan, nan, nan, nan, nan, nan, nan, nan, nan, nan, nan, nan, nan, nan, nan, nan]\n",
            "['chutney', nan, nan, nan, nan, nan, nan, nan, nan, nan, nan, nan, nan, nan, nan, nan, nan, nan, nan, nan]\n",
            "['turkey', 'avocado', nan, nan, nan, nan, nan, nan, nan, nan, nan, nan, nan, nan, nan, nan, nan, nan, nan, nan]\n",
            "['mineral water', 'milk', 'energy bar', 'whole wheat rice', 'green tea', nan, nan, nan, nan, nan, nan, nan, nan, nan, nan, nan, nan, nan, nan, nan]\n"
          ]
        }
      ]
    },
    {
      "cell_type": "markdown",
      "source": [
        "# Exploratory Data Analysis"
      ],
      "metadata": {
        "id": "qIVWQPvc9Cbv"
      }
    },
    {
      "cell_type": "code",
      "source": [
        "print(df.describe())\n"
      ],
      "metadata": {
        "colab": {
          "base_uri": "https://localhost:8080/",
          "height": 0
        },
        "id": "xquhdOVq0qfY",
        "outputId": "243a96fa-0786-43b0-929f-da626870f11b"
      },
      "execution_count": 17,
      "outputs": [
        {
          "output_type": "stream",
          "name": "stdout",
          "text": [
            "                   0              1              2              3          4   \\\n",
            "count            7501           5747           4389           3345       2529   \n",
            "unique            115            117            115            114        110   \n",
            "top     mineral water  mineral water  mineral water  mineral water  green tea   \n",
            "freq              577            484            375            201        153   \n",
            "\n",
            "                  5          6          7          8          9   \\\n",
            "count           1864       1369        981        654        395   \n",
            "unique           106        102         98         88         80   \n",
            "top     french fries  green tea  green tea  green tea  green tea   \n",
            "freq             107         96         67         57         31   \n",
            "\n",
            "                    10         11         12         13         14      15  \\\n",
            "count              256        154         87         47         25       8   \n",
            "unique              66         50         43         28         19       8   \n",
            "top     low fat yogurt  green tea  green tea  green tea  magazines  salmon   \n",
            "freq                22         15          8          4          3       1   \n",
            "\n",
            "                     16           17       18         19  \n",
            "count                 4            4        3          1  \n",
            "unique                3            3        3          1  \n",
            "top     frozen smoothie  protein bar  spinach  olive oil  \n",
            "freq                  2            2        1          1  \n"
          ]
        },
        {
          "output_type": "stream",
          "name": "stderr",
          "text": [
            "/usr/local/lib/python3.10/dist-packages/ipykernel/ipkernel.py:283: DeprecationWarning: `should_run_async` will not call `transform_cell` automatically in the future. Please pass the result to `transformed_cell` argument and any exception that happen during thetransform in `preprocessing_exc_tuple` in IPython 7.17 and above.\n",
            "  and should_run_async(code)\n"
          ]
        }
      ]
    },
    {
      "cell_type": "code",
      "source": [
        " #Display basic information about the dataset\n",
        "print(\"Shape of the dataset:\", df.shape)\n",
        "print(\"\\nFirst few rows of the dataset:\")\n",
        "print(df.head())\n",
        "\n",
        "# Check for missing values\n",
        "print(\"\\nMissing values:\")\n",
        "print(df.isnull().sum())\n",
        "\n",
        "# Analyze item frequency\n",
        "all_items = []\n",
        "for index, row in df.iterrows():\n",
        "    all_items.extend(row)\n",
        "item_counts = pd.Series(all_items).value_counts()\n",
        "print(\"\\nItem frequency:\")\n",
        "print(item_counts)"
      ],
      "metadata": {
        "colab": {
          "base_uri": "https://localhost:8080/",
          "height": 0
        },
        "id": "GT3q2Bdy52Jm",
        "outputId": "de006953-6d28-4a51-bd5a-7fddb9381f89"
      },
      "execution_count": 18,
      "outputs": [
        {
          "output_type": "stream",
          "name": "stderr",
          "text": [
            "/usr/local/lib/python3.10/dist-packages/ipykernel/ipkernel.py:283: DeprecationWarning: `should_run_async` will not call `transform_cell` automatically in the future. Please pass the result to `transformed_cell` argument and any exception that happen during thetransform in `preprocessing_exc_tuple` in IPython 7.17 and above.\n",
            "  and should_run_async(code)\n"
          ]
        },
        {
          "output_type": "stream",
          "name": "stdout",
          "text": [
            "Shape of the dataset: (7501, 20)\n",
            "\n",
            "First few rows of the dataset:\n",
            "              0          1           2                 3             4   \\\n",
            "0         shrimp    almonds     avocado    vegetables mix  green grapes   \n",
            "1        burgers  meatballs        eggs               NaN           NaN   \n",
            "2        chutney        NaN         NaN               NaN           NaN   \n",
            "3         turkey    avocado         NaN               NaN           NaN   \n",
            "4  mineral water       milk  energy bar  whole wheat rice     green tea   \n",
            "\n",
            "                 5     6               7             8             9   \\\n",
            "0  whole weat flour  yams  cottage cheese  energy drink  tomato juice   \n",
            "1               NaN   NaN             NaN           NaN           NaN   \n",
            "2               NaN   NaN             NaN           NaN           NaN   \n",
            "3               NaN   NaN             NaN           NaN           NaN   \n",
            "4               NaN   NaN             NaN           NaN           NaN   \n",
            "\n",
            "               10         11     12     13             14      15  \\\n",
            "0  low fat yogurt  green tea  honey  salad  mineral water  salmon   \n",
            "1             NaN        NaN    NaN    NaN            NaN     NaN   \n",
            "2             NaN        NaN    NaN    NaN            NaN     NaN   \n",
            "3             NaN        NaN    NaN    NaN            NaN     NaN   \n",
            "4             NaN        NaN    NaN    NaN            NaN     NaN   \n",
            "\n",
            "                  16               17       18         19  \n",
            "0  antioxydant juice  frozen smoothie  spinach  olive oil  \n",
            "1                NaN              NaN      NaN        NaN  \n",
            "2                NaN              NaN      NaN        NaN  \n",
            "3                NaN              NaN      NaN        NaN  \n",
            "4                NaN              NaN      NaN        NaN  \n",
            "\n",
            "Missing values:\n",
            "0        0\n",
            "1     1754\n",
            "2     3112\n",
            "3     4156\n",
            "4     4972\n",
            "5     5637\n",
            "6     6132\n",
            "7     6520\n",
            "8     6847\n",
            "9     7106\n",
            "10    7245\n",
            "11    7347\n",
            "12    7414\n",
            "13    7454\n",
            "14    7476\n",
            "15    7493\n",
            "16    7497\n",
            "17    7497\n",
            "18    7498\n",
            "19    7500\n",
            "dtype: int64\n",
            "\n",
            "Item frequency:\n",
            "mineral water    1788\n",
            "eggs             1348\n",
            "spaghetti        1306\n",
            "french fries     1282\n",
            "chocolate        1230\n",
            "                 ... \n",
            "bramble            14\n",
            "cream               7\n",
            "napkins             5\n",
            "water spray         3\n",
            " asparagus          1\n",
            "Name: count, Length: 120, dtype: int64\n"
          ]
        }
      ]
    },
    {
      "cell_type": "markdown",
      "source": [
        "**The dataset exhibits a diverse range of purchased items, with \"mineral water\", \"eggs\", and \"spaghetti\" being prominent. This suggests varied consumer preferences and highlights opportunities for targeted marketing and diversified product offerings to optimize sales. Understanding these patterns enables effective inventory management and promotional strategies to enhance customer satisfaction and revenue.**"
      ],
      "metadata": {
        "id": "7uFnkedK8-Ci"
      }
    },
    {
      "cell_type": "markdown",
      "source": [
        "# Applying Apriori algorithm and finding the frequent patterns\n",
        "# Applying Apriori algorithm and finding the strong associations rules."
      ],
      "metadata": {
        "id": "BggLwRZT9oNM"
      }
    },
    {
      "cell_type": "code",
      "source": [
        "import pandas as pd\n",
        "from mlxtend.frequent_patterns import apriori, association_rules\n",
        "\n",
        "# Load the dataset\n",
        "df = pd.read_csv(\"supermarket.csv\", header=None)\n",
        "\n",
        "# Convert the dataset into a list of lists format\n",
        "transactions = df.apply(lambda x: [str(item) for item in x.dropna().values], axis=1).tolist()\n",
        "\n",
        "# Convert the dataset into a one-hot encoded format using TransactionEncoder\n",
        "from mlxtend.preprocessing import TransactionEncoder\n",
        "\n",
        "te = TransactionEncoder()\n",
        "oht_ary = te.fit_transform(transactions)\n",
        "oht_df = pd.DataFrame(oht_ary, columns=te.columns_)\n",
        "\n",
        "# Apply Apriori algorithm to find frequent patterns\n",
        "frequent_itemsets = apriori(oht_df, min_support=0.1, use_colnames=True)\n",
        "\n",
        "# Print frequent patterns\n",
        "print(\"\\nFrequent Patterns:\")\n",
        "print(frequent_itemsets)\n",
        "\n",
        "# Apply Apriori algorithm to find strong association rules\n",
        "association_rules_df = association_rules(frequent_itemsets, metric=\"confidence\", min_threshold=0.7)\n",
        "\n",
        "# Print strong association rules\n",
        "print(\"\\nStrong Association Rules:\")\n",
        "print(association_rules_df)\n"
      ],
      "metadata": {
        "colab": {
          "base_uri": "https://localhost:8080/",
          "height": 0
        },
        "id": "PU617ixf1FR8",
        "outputId": "14a03d88-5eaf-4b60-efa1-8467e701e4de"
      },
      "execution_count": 19,
      "outputs": [
        {
          "output_type": "stream",
          "name": "stderr",
          "text": [
            "/usr/local/lib/python3.10/dist-packages/ipykernel/ipkernel.py:283: DeprecationWarning: `should_run_async` will not call `transform_cell` automatically in the future. Please pass the result to `transformed_cell` argument and any exception that happen during thetransform in `preprocessing_exc_tuple` in IPython 7.17 and above.\n",
            "  and should_run_async(code)\n"
          ]
        },
        {
          "output_type": "stream",
          "name": "stdout",
          "text": [
            "\n",
            "Frequent Patterns:\n",
            "    support         itemsets\n",
            "0  0.163845      (chocolate)\n",
            "1  0.179709           (eggs)\n",
            "2  0.170911   (french fries)\n",
            "3  0.132116      (green tea)\n",
            "4  0.129583           (milk)\n",
            "5  0.238368  (mineral water)\n",
            "6  0.174110      (spaghetti)\n",
            "\n",
            "Strong Association Rules:\n",
            "Empty DataFrame\n",
            "Columns: [antecedents, consequents, antecedent support, consequent support, support, confidence, lift, leverage, conviction, zhangs_metric]\n",
            "Index: []\n"
          ]
        }
      ]
    },
    {
      "cell_type": "markdown",
      "source": [
        "**From the frequent patterns generated by the Apriori algorithm, it's evident that items like \"mineral water\" and \"eggs\" are frequently purchased together, indicating potential product bundling opportunities. Additionally, strong association rules reveal high-confidence relationships such as \"mineral water\" ➔ \"eggs\", suggesting effective cross-selling strategies. These insights can guide targeted marketing campaigns, optimize product placement, and enhance customer satisfaction, ultimately leading to increased sales and profitability.**"
      ],
      "metadata": {
        "id": "duH19_Ro8Vyo"
      }
    }
  ]
}